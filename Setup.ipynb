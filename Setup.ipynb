{
 "cells": [
  {
   "cell_type": "code",
   "execution_count": null,
   "metadata": {},
   "outputs": [],
   "source": [
    "import zipfile, urllib.request\n",
    "url = 'https://github.com/BSData/wh40k/archive/master.zip'\n",
    "local_name = 'w40k.zip'\n",
    "\n",
    "# Download the file from `url` and save it locally under `file_name`:\n",
    "urllib.request.urlretrieve(url, local_name)\n",
    "\n",
    "z = zipfile.ZipFile(local_name)\n",
    "z.extractall()"
   ]
  },
  {
   "cell_type": "code",
   "execution_count": null,
   "metadata": {},
   "outputs": [],
   "source": [
    "import xml.etree.ElementTree as ET\n",
    "import os\n",
    "\n",
    "dir_base = 'wh40k-master'\n",
    "\n",
    "#Iterate through the .cat files, creating an XML tree for each\n",
    "XML_db = {}\n",
    "for each_file in os.listdir(dir_base):\n",
    "    if each_file[-4:] == '.cat':\n",
    "        \n",
    "        #Create an entry in a dict for storing the XML trees:\n",
    "        XML_db[each_file[:-4]] = {}\n",
    "        \n",
    "        XML_db[each_file[:-4]]['tree'] = ET.parse(dir_base + '//' + each_file)\n",
    "        XML_db[each_file[:-4]]['root'] = tree.getroot()"
   ]
  },
  {
   "cell_type": "code",
   "execution_count": null,
   "metadata": {},
   "outputs": [],
   "source": [
    "#test traverse\n",
    "for child in XML_db[list(XML_db.keys())[0]]['root']:\n",
    "    print(child.tag, child.attrib)\n",
    "    \n",
    "    for child_2 in child:\n",
    "        print(child_2.tag, child_2.attrib)"
   ]
  },
  {
   "cell_type": "code",
   "execution_count": null,
   "metadata": {},
   "outputs": [],
   "source": []
  },
  {
   "cell_type": "code",
   "execution_count": null,
   "metadata": {},
   "outputs": [],
   "source": []
  }
 ],
 "metadata": {
  "kernelspec": {
   "display_name": "Python [conda env:py3]",
   "language": "python",
   "name": "conda-env-py3-py"
  },
  "language_info": {
   "codemirror_mode": {
    "name": "ipython",
    "version": 3
   },
   "file_extension": ".py",
   "mimetype": "text/x-python",
   "name": "python",
   "nbconvert_exporter": "python",
   "pygments_lexer": "ipython3",
   "version": "3.6.5"
  }
 },
 "nbformat": 4,
 "nbformat_minor": 2
}
